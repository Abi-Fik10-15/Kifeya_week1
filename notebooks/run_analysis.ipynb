from sentiment_analysis import add_vader_sentiment, compute_daily_sentiment
from correlation_analysis import merge_sentiment_with_prices, plot_correlation
import pandas as pd

# Load data
stock_df = pd.read_csv('data/stock_data.csv')
news_df = pd.read_csv('data/news_data.csv')

# Sentiment Analysis
news_df = add_vader_sentiment(news_df)
daily_sentiment = compute_daily_sentiment(news_df)

# Merge & Correlation
merged_df = merge_sentiment_with_prices(stock_df, daily_sentiment)
plot_correlation(merged_df)
