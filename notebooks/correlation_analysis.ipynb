import pandas as pd
import seaborn as sns
import matplotlib.pyplot as plt

# Merge stock and sentiment data on date
merged = pd.merge(stock_df, news_df, on='date', how='inner')

# Calculate daily return
merged['return'] = merged['Close'].pct_change()

# Group sentiment by day
daily_sentiment = merged.groupby('date')['sentiment'].mean().reset_index()
merged = pd.merge(merged, daily_sentiment, on='date', suffixes=('', '_daily_avg'))

# Correlation
correlation = merged[['return', 'sentiment_daily_avg']].corr()
print(correlation)

# Visualize
sns.scatterplot(data=merged, x='sentiment_daily_avg', y='return')
plt.title("Correlation between Daily Sentiment and Stock Return")
plt.show()
