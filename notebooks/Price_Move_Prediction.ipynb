{
 "cells": [
  {
   "cell_type": "code",
   "execution_count": null,
   "id": "f4874eec",
   "metadata": {
    "vscode": {
     "languageId": "plaintext"
    }
   },
   "outputs": [],
   "source": [
    "# Cell 1: Imports\n",
    "import pandas as pd\n",
    "import matplotlib.pyplot as plt\n",
    "import seaborn as sns\n",
    "from sklearn.model_selection import train_test_split\n",
    "from sklearn.ensemble import RandomForestClassifier\n",
    "from sklearn.metrics import classification_report, confusion_matrix\n",
    "from scripts.preprocess_news import preprocess_news_df\n",
    "from scripts.features_sentiment import merge_news_with_stock_data\n",
    "from src.model import train_and_evaluate_model\n",
    "\n",
    "# Cell 2: Load datasets\n",
    "news_df = pd.read_csv('data/news_data.csv')\n",
    "stock_df = pd.read_csv('data/stock_data.csv')\n",
    "\n",
    "# Cell 3: Preprocess news and extract sentiment\n",
    "news_df = preprocess_news_df(news_df)\n",
    "\n",
    "# Cell 4: Merge sentiment with stock data\n",
    "merged_df = merge_news_with_stock_data(news_df, stock_df)\n",
    "\n",
    "# Cell 5: Train & Evaluate Model\n",
    "train_and_evaluate_model(merged_df)\n"
   ]
  }
 ],
 "metadata": {
  "language_info": {
   "name": "python"
  }
 },
 "nbformat": 4,
 "nbformat_minor": 5
}
