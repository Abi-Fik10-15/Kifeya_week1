from load_data import load_stock_data, load_news_data
from sentiment_analysis import apply_vader_sentiment
from technical_indicators import add_technical_indicators

stock_df = load_stock_data('AAPL')
stock_df = add_technical_indicators(stock_df)

news_df = load_news_data()
news_df = apply_vader_sentiment(news_df)

# Save processed data
stock_df.to_csv('data/stock_with_indicators.csv')
news_df.to_csv('data/news_with_sentiment.csv')
